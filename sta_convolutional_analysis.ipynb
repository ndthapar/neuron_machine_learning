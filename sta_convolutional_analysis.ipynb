{
 "cells": [
  {
   "cell_type": "code",
   "execution_count": 17,
   "metadata": {},
   "outputs": [
    {
     "name": "stdout",
     "output_type": "stream",
     "text": [
      "(599999, 2)\n"
     ]
    }
   ],
   "source": [
    "import pandas as pd\n",
    "import numpy as np\n",
    "\n",
    "df = pd.read_csv(\"./c1p8.csv\")\n",
    "print(df.shape)\n",
    "\n",
    "#drop first data point and rename columns -- unfortunate artifact of matlab to csv conversion\n",
    "spikes = {}\n",
    "df.head()\n",
    "df = df.rename(columns={'0': \"rho\", '-111.95': \"stim\"})\n",
    "\n",
    "\n",
    "#convert raw data to kernels/segmentation:\n",
    "index_count = 0\n",
    "x=0\n",
    "for i in range(0,4000):\n",
    "    kernel_internal = []\n",
    "    for x in range(150):\n",
    "        try:\n",
    "            kernel_internal.append(df.iloc[(i*150 + x)])\n",
    "        except:\n",
    "            break\n",
    "    spikes[i] = kernel_internal\n",
    "\n",
    "\n",
    "        \n",
    "    "
   ]
  },
  {
   "cell_type": "code",
   "execution_count": 24,
   "metadata": {
    "scrolled": true
   },
   "outputs": [
    {
     "name": "stdout",
     "output_type": "stream",
     "text": [
      "-28.403000000000002\n"
     ]
    }
   ],
   "source": [
    "#print(spikes[190][100][\"stim\"])\n",
    "\n",
    "def compute_sta(spikes):\n",
    "    for element in spikes:\n",
    "        "
   ]
  },
  {
   "cell_type": "code",
   "execution_count": null,
   "metadata": {},
   "outputs": [],
   "source": []
  }
 ],
 "metadata": {
  "kernelspec": {
   "display_name": "Python 3",
   "language": "python",
   "name": "python3"
  },
  "language_info": {
   "codemirror_mode": {
    "name": "ipython",
    "version": 3
   },
   "file_extension": ".py",
   "mimetype": "text/x-python",
   "name": "python",
   "nbconvert_exporter": "python",
   "pygments_lexer": "ipython3",
   "version": "3.7.3"
  }
 },
 "nbformat": 4,
 "nbformat_minor": 2
}
